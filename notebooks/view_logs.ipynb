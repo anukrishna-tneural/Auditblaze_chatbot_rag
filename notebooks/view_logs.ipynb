{
 "cells": [
  {
   "cell_type": "code",
   "execution_count": null,
   "id": "d80a03da",
   "metadata": {
    "vscode": {
     "languageId": "plaintext"
    }
   },
   "outputs": [],
   "source": [
    "import pandas as pd\n",
    "df = pd.read_csv(\"data/prompt_log.csv\")\n",
    "df['timestamp'] = pd.to_datetime(df['timestamp'])\n",
    "\n",
    "# Success rate per handler\n",
    "df.groupby(\"handler\")[\"success\"].mean()\n",
    "\n",
    "# Volume of queries over time\n",
    "df.set_index(\"timestamp\").resample(\"1H\")[\"prompt\"].count().plot()\n"
   ]
  }
 ],
 "metadata": {
  "language_info": {
   "name": "python"
  }
 },
 "nbformat": 4,
 "nbformat_minor": 5
}
